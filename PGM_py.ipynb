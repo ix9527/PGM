{
 "cells": [
  {
   "cell_type": "code",
   "execution_count": 1,
   "metadata": {
    "collapsed": false
   },
   "outputs": [
    {
     "data": {
      "text/plain": [
       "(X _|_ Y)"
      ]
     },
     "execution_count": 1,
     "metadata": {},
     "output_type": "execute_result"
    }
   ],
   "source": [
    "from pgmpy.independencies import IndependenceAssertion\n",
    "assertion1 = IndependenceAssertion('X','Y')\n",
    "assertion1"
   ]
  },
  {
   "cell_type": "code",
   "execution_count": 2,
   "metadata": {
    "collapsed": false
   },
   "outputs": [
    {
     "data": {
      "text/plain": [
       "(X _|_ Y | Z)"
      ]
     },
     "execution_count": 2,
     "metadata": {},
     "output_type": "execute_result"
    }
   ],
   "source": [
    "assertion2 = IndependenceAssertion('X', 'Y', 'Z')\n",
    "assertion2"
   ]
  },
  {
   "cell_type": "code",
   "execution_count": 3,
   "metadata": {
    "collapsed": false
   },
   "outputs": [
    {
     "name": "stdout",
     "output_type": "stream",
     "text": [
      "╒═════════╤═════════╤══════════════════╕\n",
      "│ coin1   │ coin2   │   P(coin1,coin2) │\n",
      "╞═════════╪═════════╪══════════════════╡\n",
      "│ coin1_0 │ coin2_0 │           0.2500 │\n",
      "├─────────┼─────────┼──────────────────┤\n",
      "│ coin1_0 │ coin2_1 │           0.2500 │\n",
      "├─────────┼─────────┼──────────────────┤\n",
      "│ coin1_1 │ coin2_0 │           0.2500 │\n",
      "├─────────┼─────────┼──────────────────┤\n",
      "│ coin1_1 │ coin2_1 │           0.2500 │\n",
      "╘═════════╧═════════╧══════════════════╛\n"
     ]
    }
   ],
   "source": [
    "from pgmpy.factors import JointProbabilityDistribution as Joint\n",
    "distribution = Joint(['coin1', 'coin2'], [2, 2], [0.25, 0.25, 0.25, 0.25])\n",
    "print(distribution)"
   ]
  },
  {
   "cell_type": "code",
   "execution_count": 6,
   "metadata": {
    "collapsed": false
   },
   "outputs": [
    {
     "name": "stdout",
     "output_type": "stream",
     "text": [
      "╒═══════════╤═════╕\n",
      "│ Quality_0 │ 0.3 │\n",
      "├───────────┼─────┤\n",
      "│ Quality_1 │ 0.5 │\n",
      "├───────────┼─────┤\n",
      "│ Quality_2 │ 0.2 │\n",
      "╘═══════════╧═════╛\n"
     ]
    },
    {
     "data": {
      "text/plain": [
       "['Quality']"
      ]
     },
     "execution_count": 6,
     "metadata": {},
     "output_type": "execute_result"
    }
   ],
   "source": [
    "from pgmpy.factors import TabularCPD\n",
    "quality = TabularCPD(variable = 'Quality',\n",
    "                    variable_card = 3,\n",
    "                    values = [[0.3],[0.5],[0.2]])\n",
    "print(quality)\n",
    "quality.variables\n"
   ]
  },
  {
   "cell_type": "code",
   "execution_count": 7,
   "metadata": {
    "collapsed": false
   },
   "outputs": [
    {
     "data": {
      "text/plain": [
       "array([3])"
      ]
     },
     "execution_count": 7,
     "metadata": {},
     "output_type": "execute_result"
    }
   ],
   "source": [
    "quality.cardinality"
   ]
  },
  {
   "cell_type": "code",
   "execution_count": 8,
   "metadata": {
    "collapsed": false
   },
   "outputs": [
    {
     "data": {
      "text/plain": [
       "array([ 0.3,  0.5,  0.2])"
      ]
     },
     "execution_count": 8,
     "metadata": {},
     "output_type": "execute_result"
    }
   ],
   "source": [
    "quality.values"
   ]
  },
  {
   "cell_type": "code",
   "execution_count": 10,
   "metadata": {
    "collapsed": false,
    "scrolled": true
   },
   "outputs": [
    {
     "name": "stdout",
     "output_type": "stream",
     "text": [
      "╒════════════╤═════╕\n",
      "│ Location_0 │ 0.6 │\n",
      "├────────────┼─────┤\n",
      "│ Location_1 │ 0.4 │\n",
      "╘════════════╧═════╛\n"
     ]
    }
   ],
   "source": [
    "location = TabularCPD(variable='Location',\n",
    "                     variable_card=2,\n",
    "                     values=[[0.6],[0.4]])\n",
    "print(location)"
   ]
  },
  {
   "cell_type": "code",
   "execution_count": 28,
   "metadata": {
    "collapsed": false
   },
   "outputs": [
    {
     "name": "stdout",
     "output_type": "stream",
     "text": [
      "╒════════╤═════╤═════╤═════╤═════╤═════╤══════╕\n",
      "│ Q      │ Q_0 │ Q_0 │ Q_1 │ Q_1 │ Q_2 │ Q_2  │\n",
      "├────────┼─────┼─────┼─────┼─────┼─────┼──────┤\n",
      "│ L      │ L_0 │ L_1 │ L_0 │ L_1 │ L_0 │ L_1  │\n",
      "├────────┼─────┼─────┼─────┼─────┼─────┼──────┤\n",
      "│ cost_0 │ 0.8 │ 0.6 │ 0.1 │ 0.6 │ 0.6 │ 0.05 │\n",
      "├────────┼─────┼─────┼─────┼─────┼─────┼──────┤\n",
      "│ cost_1 │ 0.2 │ 0.4 │ 0.9 │ 0.4 │ 0.4 │ 0.95 │\n",
      "╘════════╧═════╧═════╧═════╧═════╧═════╧══════╛\n"
     ]
    }
   ],
   "source": [
    "from pgmpy.factors import TabularCPD\n",
    "cost = TabularCPD(variable='cost',\n",
    "                  variable_card = 2,\n",
    "                 values=[[0.8,0.6,0.1,0.6,0.6,0.05],\n",
    "                        [0.2,0.4,0.9,0.4,0.4,0.95]],\n",
    "                 evidence=['Q','L'],\n",
    "                 evidence_card=[3,2])\n",
    "print(cost)"
   ]
  },
  {
   "cell_type": "code",
   "execution_count": 26,
   "metadata": {
    "collapsed": false
   },
   "outputs": [
    {
     "data": {
      "text/plain": [
       "['traffic_jam', 'accident', 'rain']"
      ]
     },
     "execution_count": 26,
     "metadata": {},
     "output_type": "execute_result"
    }
   ],
   "source": [
    "\n",
    "from pgmpy.models import BayesianModel\n",
    "model = BayesianModel()\n",
    "#model.add_nodes_from(['traffic_jam','rain','accident'])\n",
    "model.add_edge('rain','traffic_jam')\n",
    "model.add_edge('accident','traffic_jam')\n",
    "model.nodes()"
   ]
  },
  {
   "cell_type": "code",
   "execution_count": 27,
   "metadata": {
    "collapsed": false
   },
   "outputs": [
    {
     "data": {
      "text/plain": [
       "[('accident', 'traffic_jam'), ('rain', 'traffic_jam')]"
      ]
     },
     "execution_count": 27,
     "metadata": {},
     "output_type": "execute_result"
    }
   ],
   "source": [
    "model.edges()"
   ]
  },
  {
   "cell_type": "code",
   "execution_count": 29,
   "metadata": {
    "collapsed": false
   },
   "outputs": [
    {
     "name": "stdout",
     "output_type": "stream",
     "text": [
      "╒════════╤═════╕\n",
      "│ rain_0 │ 0.4 │\n",
      "├────────┼─────┤\n",
      "│ rain_1 │ 0.6 │\n",
      "╘════════╧═════╛\n",
      "╒════════════╤═════╕\n",
      "│ accident_0 │ 0.2 │\n",
      "├────────────┼─────┤\n",
      "│ accident_1 │ 0.8 │\n",
      "╘════════════╧═════╛\n",
      "╒═══════════════╤════════════╤════════════╤════════════╤════════════╕\n",
      "│ rain          │ rain_0     │ rain_0     │ rain_1     │ rain_1     │\n",
      "├───────────────┼────────────┼────────────┼────────────┼────────────┤\n",
      "│ accident      │ accident_0 │ accident_1 │ accident_0 │ accident_1 │\n",
      "├───────────────┼────────────┼────────────┼────────────┼────────────┤\n",
      "│ traffic_jam_0 │ 0.9        │ 0.6        │ 0.7        │ 0.1        │\n",
      "├───────────────┼────────────┼────────────┼────────────┼────────────┤\n",
      "│ traffic_jam_1 │ 0.1        │ 0.4        │ 0.3        │ 0.9        │\n",
      "╘═══════════════╧════════════╧════════════╧════════════╧════════════╛\n"
     ]
    }
   ],
   "source": [
    "from pgmpy.factors import TabularCPD\n",
    "cpd_rain = TabularCPD('rain',2,[[0.4],[0.6]])\n",
    "cpd_accident = TabularCPD('accident',2,[[0.2],[0.8]])\n",
    "cpd_traffic_jam = TabularCPD('traffic_jam',2,\n",
    "                            [[0.9,0.6,0.7,0.1],\n",
    "                            [0.1,0.4,0.3,0.9]],\n",
    "                            evidence=['rain','accident'],\n",
    "                            evidence_card=[2,2])\n",
    "print(cpd_rain)\n",
    "print(cpd_accident)\n",
    "print(cpd_traffic_jam)"
   ]
  },
  {
   "cell_type": "code",
   "execution_count": 30,
   "metadata": {
    "collapsed": false
   },
   "outputs": [
    {
     "data": {
      "text/plain": [
       "[<TabularCPD representing P(rain:2) at 0x10ba21908>,\n",
       " <TabularCPD representing P(accident:2) at 0x10ba219b0>,\n",
       " <TabularCPD representing P(traffic_jam:2 | rain:2, accident:2) at 0x10ba21240>]"
      ]
     },
     "execution_count": 30,
     "metadata": {},
     "output_type": "execute_result"
    }
   ],
   "source": [
    "model.add_cpds(cpd_rain, cpd_accident, cpd_traffic_jam)\n",
    "model.get_cpds()"
   ]
  },
  {
   "cell_type": "code",
   "execution_count": 31,
   "metadata": {
    "collapsed": false
   },
   "outputs": [
    {
     "data": {
      "text/plain": [
       "[<TabularCPD representing P(rain:2) at 0x10ba21908>,\n",
       " <TabularCPD representing P(accident:2) at 0x10ba219b0>,\n",
       " <TabularCPD representing P(traffic_jam:2 | rain:2, accident:2) at 0x10ba21240>,\n",
       " <TabularCPD representing P(long_queues:2 | traffic_jam:2) at 0x10ba21208>,\n",
       " <TabularCPD representing P(getting_up_late:2) at 0x10ba35a20>,\n",
       " <TabularCPD representing P(late_for_school:2 | getting_up_late:2, traffic_jam:2) at 0x10ba21358>]"
      ]
     },
     "execution_count": 31,
     "metadata": {},
     "output_type": "execute_result"
    }
   ],
   "source": [
    "model.add_node('long_queues')\n",
    "model.add_edge('traffic_jam','long_queues')\n",
    "cpd_long_queues = TabularCPD('long_queues', 2,\n",
    "                            [[0.9, 0.2],\n",
    "                            [0.1, 0.8]],\n",
    "                            evidence = ['traffic_jam'],\n",
    "                            evidence_card = [2])\n",
    "model.add_cpds(cpd_long_queues)\n",
    "model.add_nodes_from(['getting_up_late',\n",
    "                    'late_for_school'])\n",
    "model.add_edges_from([('getting_up_late', 'late_for_school'),\n",
    "                     ('traffic_jam', 'late_for_school')])\n",
    "cpd_getting_up_late = TabularCPD('getting_up_late', 2,\n",
    "                                [[0.6],[0.4]])\n",
    "cpd_late_for_school = TabularCPD('late_for_school',2,\n",
    "                                [[0.9,0.45,0.8,0.1],\n",
    "                                [0.1,0.55,0.2,0.9]],\n",
    "                                evidence=['getting_up_late',\n",
    "                                         'traffic_jam'],\n",
    "                                evidence_card = [2,2])\n",
    "model.add_cpds(cpd_getting_up_late, cpd_late_for_school)\n",
    "model.get_cpds()"
   ]
  },
  {
   "cell_type": "code",
   "execution_count": 55,
   "metadata": {
    "collapsed": false,
    "scrolled": true
   },
   "outputs": [
    {
     "name": "stdout",
     "output_type": "stream",
     "text": [
      "╒═════╤═════╤════════════╕\n",
      "│ A   │ B   │   phi(A,B) │\n",
      "╞═════╪═════╪════════════╡\n",
      "│ A_0 │ B_0 │  1000.0000 │\n",
      "├─────┼─────┼────────────┤\n",
      "│ A_0 │ B_1 │     1.0000 │\n",
      "├─────┼─────┼────────────┤\n",
      "│ A_0 │ B_2 │     5.0000 │\n",
      "├─────┼─────┼────────────┤\n",
      "│ A_1 │ B_0 │   100.0000 │\n",
      "├─────┼─────┼────────────┤\n",
      "│ A_1 │ B_1 │    20.0000 │\n",
      "├─────┼─────┼────────────┤\n",
      "│ A_1 │ B_2 │    30.0000 │\n",
      "╘═════╧═════╧════════════╛\n"
     ]
    }
   ],
   "source": [
    "#Parameterizing a Markov Network\n",
    "from pgmpy.factors import Factor\n",
    "phi = Factor(['A','B'], [2,3],[1000,1,5,100,20,30])\n",
    "print(phi)"
   ]
  },
  {
   "cell_type": "code",
   "execution_count": 56,
   "metadata": {
    "collapsed": false,
    "scrolled": true
   },
   "outputs": [
    {
     "name": "stdout",
     "output_type": "stream",
     "text": [
      "╒═════╤═══════════╕\n",
      "│ B   │    phi(B) │\n",
      "╞═════╪═══════════╡\n",
      "│ B_0 │ 1100.0000 │\n",
      "├─────┼───────────┤\n",
      "│ B_1 │   21.0000 │\n",
      "├─────┼───────────┤\n",
      "│ B_2 │   35.0000 │\n",
      "╘═════╧═══════════╛\n"
     ]
    }
   ],
   "source": [
    "phi_marginalized = phi.marginalize(['B'],inplace=False)\n",
    "phi_marginalized.scope()\n",
    "phi.marginalize(['A'])\n",
    "print(phi)"
   ]
  },
  {
   "cell_type": "code",
   "execution_count": 57,
   "metadata": {
    "collapsed": false
   },
   "outputs": [
    {
     "data": {
      "text/plain": [
       "['B']"
      ]
     },
     "execution_count": 57,
     "metadata": {},
     "output_type": "execute_result"
    }
   ],
   "source": [
    "phi.scope()"
   ]
  },
  {
   "cell_type": "code",
   "execution_count": 61,
   "metadata": {
    "collapsed": false
   },
   "outputs": [
    {
     "name": "stdout",
     "output_type": "stream",
     "text": [
      "╒═════════╤══════════════╕\n",
      "│ price   │   phi(price) │\n",
      "╞═════════╪══════════════╡\n",
      "│ price_0 │       6.0000 │\n",
      "├─────────┼──────────────┤\n",
      "│ price_1 │      22.0000 │\n",
      "╘═════════╧══════════════╛\n"
     ]
    }
   ],
   "source": [
    "import numpy as np\n",
    "price = Factor(['price','quality','location'],\n",
    "              [2,2,2],\n",
    "              np.arange(8))\n",
    "price_marginalized = price.marginalize(['quality', 'location'],\n",
    "                                      inplace = False)\n",
    "price_marginalized.scope()\n",
    "print(price_marginalized)"
   ]
  }
 ],
 "metadata": {
  "anaconda-cloud": {},
  "kernelspec": {
   "display_name": "Python 3",
   "language": "python",
   "name": "python3"
  },
  "language_info": {
   "codemirror_mode": {
    "name": "ipython",
    "version": 3
   },
   "file_extension": ".py",
   "mimetype": "text/x-python",
   "name": "python",
   "nbconvert_exporter": "python",
   "pygments_lexer": "ipython3",
   "version": "3.5.2"
  }
 },
 "nbformat": 4,
 "nbformat_minor": 0
}
